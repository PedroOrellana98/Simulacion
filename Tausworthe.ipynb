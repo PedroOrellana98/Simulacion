{
  "nbformat": 4,
  "nbformat_minor": 0,
  "metadata": {
    "colab": {
      "name": "Tausworthe.ipynb",
      "provenance": [],
      "collapsed_sections": []
    },
    "kernelspec": {
      "name": "python3",
      "display_name": "Python 3"
    },
    "language_info": {
      "name": "python"
    }
  },
  "cells": [
    {
      "cell_type": "markdown",
      "source": [
        "<img src=\"https://pure.ups.edu.ec/skin/footerIcon/\"/>\n",
        "\n",
        "**Nombre:**  Pedro Jose Orellana\n",
        "\n",
        "**Tema:**  Tausworthe"
      ],
      "metadata": {
        "id": "KQ0TtIWo2t-3"
      }
    },
    {
      "cell_type": "markdown",
      "source": [
        "**Aula invertida / Investigación**\n",
        "\n",
        "Para mejorar la generación de numeros aleatorios se utiliza procesos o algoritmo criptograficos, en base a ellos realizar la investigación e implementación del algoritmo *Tausworthe*\n",
        "\n",
        "- Realizar un Presentación\n",
        "- Un ejemplo en excel\n",
        "- Codigo en python"
      ],
      "metadata": {
        "id": "sNBHTBAxkZek"
      }
    },
    {
      "cell_type": "code",
      "metadata": {
        "colab": {
          "base_uri": "https://localhost:8080/"
        },
        "id": "NaYo_K-y4aNK",
        "outputId": "0f77e406-9699-4bfc-b428-6492d98e2805"
      },
      "source": [
        "from itertools import zip_longest\n",
        "\n",
        "r = int(input(\"valor de r: \"))\n",
        "q = int(input(\"valor de q: \"))\n",
        "baseb = int(input(\"valor de base binaria: \"))\n",
        "\n",
        "def operacionXOR(a,b):\n",
        "  ab = 1\n",
        "  if a  == b:\n",
        "    ab = 0\n",
        "  return ab\n",
        "\n",
        "bits = []\n",
        "b = (2**q) - 1\n",
        "\n",
        "for i in range(0,b):\n",
        "  bits.append(0)\n",
        "\n",
        "print(bits)\n",
        "\n",
        "for i in range(0,q):\n",
        "  bits[i] = 1\n",
        "  bits.append(1)\n",
        "\n",
        "print(bits)\n",
        "\n",
        "a = q+1\n",
        "for i in range(a,len(bits)):\n",
        "  i1 = i - r\n",
        "  i2 = i - q\n",
        "  bits[i] = operacionXOR(bits[i1],bits[i2])\n",
        "\n",
        "print(bits)\n",
        "\n",
        "def binarioADecimal(binario):\n",
        "  a = 0\n",
        "  p = (baseb-1)\n",
        "  for i in range(0,len(binario)):\n",
        "    if binario[i] == 1:\n",
        "      a += 2**(p-i)\n",
        "  return a\n",
        "test_list = bits\n",
        "\n",
        "def elementos(n, iterable, padvalue='1'):\n",
        "    return zip_longest(*[iter(iterable)]*n, fillvalue=padvalue)\n",
        "\n",
        "print(\"\\n\",\"It.\", \"\\t\", \"Base 2\", \"\\t\",\"Base 10\",\"\\t\",\"Ui\",\"\\n\")\n",
        "d = 0\n",
        "for output in elementos(baseb,test_list):\n",
        "    lst_new = [str(a) for a in output]\n",
        "    print(d,\"\\t\" ,\" \".join(lst_new), \"\\t\", binarioADecimal(output), \"\\t\", \"\\t\", binarioADecimal(output)/(2**baseb))\n",
        "    d +=1"
      ],
      "execution_count": 22,
      "outputs": [
        {
          "output_type": "stream",
          "name": "stdout",
          "text": [
            "valor de r: 3\n",
            "valor de q: 5\n",
            "valor de base binaria: 4\n",
            "[0, 0, 0, 0, 0, 0, 0, 0, 0, 0, 0, 0, 0, 0, 0, 0, 0, 0, 0, 0, 0, 0, 0, 0, 0, 0, 0, 0, 0, 0, 0]\n",
            "[1, 1, 1, 1, 1, 0, 0, 0, 0, 0, 0, 0, 0, 0, 0, 0, 0, 0, 0, 0, 0, 0, 0, 0, 0, 0, 0, 0, 0, 0, 0, 1, 1, 1, 1, 1]\n",
            "[1, 1, 1, 1, 1, 0, 0, 0, 1, 1, 0, 1, 1, 1, 0, 1, 0, 1, 0, 0, 0, 0, 1, 0, 0, 1, 0, 1, 1, 0, 0, 1, 1, 1, 1, 1]\n",
            "\n",
            " It. \t Base 2 \t Base 10 \t Ui \n",
            "\n",
            "0 \t 1 1 1 1 \t 15 \t \t 0.9375\n",
            "1 \t 1 0 0 0 \t 8 \t \t 0.5\n",
            "2 \t 1 1 0 1 \t 13 \t \t 0.8125\n",
            "3 \t 1 1 0 1 \t 13 \t \t 0.8125\n",
            "4 \t 0 1 0 0 \t 4 \t \t 0.25\n",
            "5 \t 0 0 1 0 \t 2 \t \t 0.125\n",
            "6 \t 0 1 0 1 \t 5 \t \t 0.3125\n",
            "7 \t 1 0 0 1 \t 9 \t \t 0.5625\n",
            "8 \t 1 1 1 1 \t 15 \t \t 0.9375\n"
          ]
        }
      ]
    }
  ]
}