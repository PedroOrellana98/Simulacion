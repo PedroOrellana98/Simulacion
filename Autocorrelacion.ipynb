{
  "nbformat": 4,
  "nbformat_minor": 0,
  "metadata": {
    "colab": {
      "name": "Autocorrelacion.ipynb",
      "provenance": [],
      "collapsed_sections": []
    },
    "kernelspec": {
      "name": "python3",
      "display_name": "Python 3"
    },
    "language_info": {
      "name": "python"
    }
  },
  "cells": [
    {
      "cell_type": "markdown",
      "source": [
        "<img src=\"https://pure.ups.edu.ec/skin/footerIcon/\"/>\n",
        "\n",
        "**Nombres:**  Pedro Jose Orellana\n",
        "\n",
        "**Tema:**  Ejercicio 3 Autocorrelacion\n"
      ],
      "metadata": {
        "id": "Ivc_D8c95v0C"
      }
    },
    {
      "cell_type": "markdown",
      "source": [
        "1. Aplicar el test de autocorrelacion para los primeros 100 numeros generados por:\n",
        "\n",
        "*   Cuadrados medios: Xo=7363423178943, D=7\n",
        "*   Congruencia lineal: a=74731897457, b=37747318974, Xo=7, M=19\n",
        "*   Productos medios: X0=7363423178943, X1=1324356789532 D=7\n",
        "*   Tauswoth q=7, r=3, l=5\n",
        "\n",
        "2. Deberá indicar si los números tienen autocorrelación o no, y esperificar el valor calculado, así como las conclusiones y su correspondiente gráfica de  dispersión\n"
      ],
      "metadata": {
        "id": "iL2Ib6RF6Jb2"
      }
    },
    {
      "cell_type": "markdown",
      "source": [
        "**Cuadrados medios**"
      ],
      "metadata": {
        "id": "ebgOuKwh74qC"
      }
    },
    {
      "cell_type": "code",
      "execution_count": null,
      "metadata": {
        "colab": {
          "base_uri": "https://localhost:8080/"
        },
        "id": "_Hi3Hp_05urC",
        "outputId": "ba049572-9d7c-4d96-e805-28af94b29630"
      },
      "outputs": [
        {
          "output_type": "stream",
          "name": "stdout",
          "text": [
            "It. \t Xn \t Ui \t Rn\n",
            "0\t7363423178943\t1219503\t0.1219503\n",
            "1\t1219503\t7187567\t0.7187567\n",
            "2\t7187567\t6111937\t0.6111937\n",
            "3\t6111937\t5577389\t0.5577389\n",
            "4\t5577389\t726805\t0.0726805\n",
            "5\t726805\t8245508\t0.8245508\n",
            "6\t8245508\t8840217\t0.8840217\n",
            "7\t8840217\t4943660\t0.494366\n",
            "8\t4943660\t3977419\t0.3977419\n",
            "9\t3977419\t1986190\t0.198619\n",
            "10\t1986190\t4950716\t0.4950716\n",
            "11\t4950716\t958891\t0.0958891\n",
            "12\t958891\t9471949\t0.9471949\n",
            "13\t9471949\t1781785\t0.1781785\n",
            "14\t1781785\t4757786\t0.4757786\n",
            "15\t4757786\t3652762\t0.3652762\n",
            "16\t3652762\t4267022\t0.4267022\n",
            "17\t4267022\t747674\t0.0747674\n",
            "18\t747674\t9016410\t0.901641\n",
            "19\t9016410\t9564928\t0.9564928\n",
            "20\t9564928\t8784764\t0.8784764\n",
            "21\t8784764\t7207853\t0.7207853\n",
            "22\t7207853\t5314486\t0.5314486\n",
            "23\t5314486\t4376144\t0.4376144\n",
            "24\t4376144\t5063630\t0.506363\n",
            "25\t5063630\t4034877\t0.4034877\n",
            "26\t4034877\t8023240\t0.802324\n",
            "27\t8023240\t7238009\t0.7238009\n",
            "28\t7238009\t8877428\t0.8877428\n",
            "29\t8877428\t872789\t0.0872789\n",
            "30\t872789\t1760638\t0.1760638\n",
            "31\t1760638\t9846167\t0.9846167\n",
            "32\t9846167\t4700459\t0.4700459\n",
            "33\t4700459\t9431481\t0.9431481\n",
            "34\t9431481\t5283385\t0.5283385\n",
            "35\t5283385\t1415705\t0.1415705\n",
            "36\t1415705\t4220647\t0.4220647\n",
            "37\t4220647\t1386109\t0.1386109\n",
            "38\t1386109\t1298159\t0.1298159\n",
            "39\t1298159\t5216789\t0.5216789\n",
            "40\t5216789\t1488747\t0.1488747\n",
            "41\t1488747\t6367630\t0.636763\n",
            "42\t6367630\t4671181\t0.4671181\n",
            "43\t4671181\t1993193\t0.1993193\n",
            "44\t1993193\t2818335\t0.2818335\n",
            "45\t2818335\t3012172\t0.3012172\n",
            "46\t3012172\t3180157\t0.3180157\n",
            "47\t3180157\t1339854\t0.1339854\n",
            "48\t1339854\t5208741\t0.5208741\n",
            "49\t5208741\t3098280\t0.309828\n",
            "50\t3098280\t9338958\t0.9338958\n",
            "51\t9338958\t1613652\t0.1613652\n",
            "52\t1613652\t3872777\t0.3872777\n",
            "53\t3872777\t9840169\t0.9840169\n",
            "54\t9840169\t2892594\t0.2892594\n",
            "55\t2892594\t7100048\t0.7100048\n",
            "56\t7100048\t1068160\t0.106816\n",
            "57\t1068160\t965785\t0.0965785\n",
            "58\t965785\t2740666\t0.2740666\n",
            "59\t2740666\t1250123\t0.1250123\n",
            "60\t1250123\t2807515\t0.2807515\n",
            "61\t2807515\t2140475\t0.2140475\n",
            "62\t2140475\t1633225\t0.1633225\n",
            "63\t1633225\t7423900\t0.74239\n",
            "64\t7423900\t1429121\t0.1429121\n",
            "65\t1429121\t2386832\t0.2386832\n",
            "66\t2386832\t6966996\t0.6966996\n",
            "67\t6966996\t3903326\t0.3903326\n",
            "68\t3903326\t3595386\t0.3595386\n",
            "69\t3595386\t2680048\t0.2680048\n",
            "70\t2680048\t2657282\t0.2657282\n",
            "71\t2657282\t1147627\t0.1147627\n",
            "72\t1147627\t7047731\t0.7047731\n",
            "73\t7047731\t7051224\t0.7051224\n",
            "74\t7051224\t1975989\t0.1975989\n",
            "75\t1975989\t4532528\t0.4532528\n",
            "76\t4532528\t4381007\t0.4381007\n",
            "77\t4381007\t9322233\t0.9322233\n",
            "78\t9322233\t402810\t0.040281\n",
            "79\t402810\t2255896\t0.2255896\n",
            "80\t2255896\t9066762\t0.9066762\n",
            "81\t9066762\t617316\t0.0617316\n",
            "82\t617316\t1079043\t0.1079043\n",
            "83\t1079043\t4333795\t0.4333795\n",
            "84\t4333795\t8177910\t0.817791\n",
            "85\t8177910\t7821196\t0.7821196\n",
            "86\t7821196\t7110687\t0.7110687\n",
            "87\t7110687\t6186961\t0.6186961\n",
            "88\t6186961\t7848641\t0.7848641\n",
            "89\t7848641\t116554\t0.0116554\n",
            "90\t116554\t5848349\t0.5848349\n",
            "91\t5848349\t318602\t0.0318602\n",
            "92\t318602\t1507234\t0.1507234\n",
            "93\t1507234\t1754330\t0.175433\n",
            "94\t1754330\t7673748\t0.7673748\n",
            "95\t7673748\t8640836\t0.8640836\n",
            "96\t8640836\t6404677\t0.6404677\n",
            "97\t6404677\t1988747\t0.1988747\n",
            "98\t1988747\t5114630\t0.511463\n",
            "99\t5114630\t5944003\t0.5944003\n"
          ]
        }
      ],
      "source": [
        "xo = 7363423178943\n",
        "digitos = 7\n",
        "iteraciones = 100\n",
        "xn = xo\n",
        "print(\"It. \\t Xn \\t Ui \\t Rn\")\n",
        "vectorXn =[]\n",
        "\n",
        "for i in range(iteraciones):\n",
        "  xnn = xn**2\n",
        "  txnn = str(xnn).zfill(8)\n",
        "  tam = len(txnn)\n",
        "  ui = int(txnn[int(tam/2-digitos/2):int(tam/2+digitos/2)])\n",
        "  rn = ui / (int('9'*digitos)+1)\n",
        "  print(str(i) + \"\\t\" + str(xn) + \"\\t\"+ str(ui)+\"\\t\"+str(rn))\n",
        "  xn = ui\n",
        "  vectorXn.append(rn)"
      ]
    },
    {
      "cell_type": "markdown",
      "source": [
        "**Congruencia lineal**"
      ],
      "metadata": {
        "id": "vi-BI3SP8Bod"
      }
    },
    {
      "cell_type": "code",
      "source": [
        "xo = 7\n",
        "a = 74731897457\n",
        "b = 37747318974\n",
        "m = 19\n",
        "iteraciones = 100\n",
        "xn = xo\n",
        "vectorXn1 = []\n",
        "\n",
        "print(\"It. \\t Xn \\t Ui\")\n",
        "for i in range(iteraciones):\n",
        "  xnn = (a*xn+b) % m\n",
        "  ui = xnn/m\n",
        "  print(str(i) + \"\\t\"+ str(xnn)+\"\\t\"+str(ui))\n",
        "  xn = xnn\n",
        "  vectorXn1.append(ui)"
      ],
      "metadata": {
        "colab": {
          "base_uri": "https://localhost:8080/"
        },
        "id": "aDgjSf1L8A50",
        "outputId": "8f5660a7-11eb-468a-d990-5872b6076166"
      },
      "execution_count": null,
      "outputs": [
        {
          "output_type": "stream",
          "name": "stdout",
          "text": [
            "It. \t Xn \t Ui\n",
            "0\t17\t0.8947368421052632\n",
            "1\t16\t0.8421052631578947\n",
            "2\t18\t0.9473684210526315\n",
            "3\t14\t0.7368421052631579\n",
            "4\t3\t0.15789473684210525\n",
            "5\t6\t0.3157894736842105\n",
            "6\t0\t0.0\n",
            "7\t12\t0.631578947368421\n",
            "8\t7\t0.3684210526315789\n",
            "9\t17\t0.8947368421052632\n",
            "10\t16\t0.8421052631578947\n",
            "11\t18\t0.9473684210526315\n",
            "12\t14\t0.7368421052631579\n",
            "13\t3\t0.15789473684210525\n",
            "14\t6\t0.3157894736842105\n",
            "15\t0\t0.0\n",
            "16\t12\t0.631578947368421\n",
            "17\t7\t0.3684210526315789\n",
            "18\t17\t0.8947368421052632\n",
            "19\t16\t0.8421052631578947\n",
            "20\t18\t0.9473684210526315\n",
            "21\t14\t0.7368421052631579\n",
            "22\t3\t0.15789473684210525\n",
            "23\t6\t0.3157894736842105\n",
            "24\t0\t0.0\n",
            "25\t12\t0.631578947368421\n",
            "26\t7\t0.3684210526315789\n",
            "27\t17\t0.8947368421052632\n",
            "28\t16\t0.8421052631578947\n",
            "29\t18\t0.9473684210526315\n",
            "30\t14\t0.7368421052631579\n",
            "31\t3\t0.15789473684210525\n",
            "32\t6\t0.3157894736842105\n",
            "33\t0\t0.0\n",
            "34\t12\t0.631578947368421\n",
            "35\t7\t0.3684210526315789\n",
            "36\t17\t0.8947368421052632\n",
            "37\t16\t0.8421052631578947\n",
            "38\t18\t0.9473684210526315\n",
            "39\t14\t0.7368421052631579\n",
            "40\t3\t0.15789473684210525\n",
            "41\t6\t0.3157894736842105\n",
            "42\t0\t0.0\n",
            "43\t12\t0.631578947368421\n",
            "44\t7\t0.3684210526315789\n",
            "45\t17\t0.8947368421052632\n",
            "46\t16\t0.8421052631578947\n",
            "47\t18\t0.9473684210526315\n",
            "48\t14\t0.7368421052631579\n",
            "49\t3\t0.15789473684210525\n",
            "50\t6\t0.3157894736842105\n",
            "51\t0\t0.0\n",
            "52\t12\t0.631578947368421\n",
            "53\t7\t0.3684210526315789\n",
            "54\t17\t0.8947368421052632\n",
            "55\t16\t0.8421052631578947\n",
            "56\t18\t0.9473684210526315\n",
            "57\t14\t0.7368421052631579\n",
            "58\t3\t0.15789473684210525\n",
            "59\t6\t0.3157894736842105\n",
            "60\t0\t0.0\n",
            "61\t12\t0.631578947368421\n",
            "62\t7\t0.3684210526315789\n",
            "63\t17\t0.8947368421052632\n",
            "64\t16\t0.8421052631578947\n",
            "65\t18\t0.9473684210526315\n",
            "66\t14\t0.7368421052631579\n",
            "67\t3\t0.15789473684210525\n",
            "68\t6\t0.3157894736842105\n",
            "69\t0\t0.0\n",
            "70\t12\t0.631578947368421\n",
            "71\t7\t0.3684210526315789\n",
            "72\t17\t0.8947368421052632\n",
            "73\t16\t0.8421052631578947\n",
            "74\t18\t0.9473684210526315\n",
            "75\t14\t0.7368421052631579\n",
            "76\t3\t0.15789473684210525\n",
            "77\t6\t0.3157894736842105\n",
            "78\t0\t0.0\n",
            "79\t12\t0.631578947368421\n",
            "80\t7\t0.3684210526315789\n",
            "81\t17\t0.8947368421052632\n",
            "82\t16\t0.8421052631578947\n",
            "83\t18\t0.9473684210526315\n",
            "84\t14\t0.7368421052631579\n",
            "85\t3\t0.15789473684210525\n",
            "86\t6\t0.3157894736842105\n",
            "87\t0\t0.0\n",
            "88\t12\t0.631578947368421\n",
            "89\t7\t0.3684210526315789\n",
            "90\t17\t0.8947368421052632\n",
            "91\t16\t0.8421052631578947\n",
            "92\t18\t0.9473684210526315\n",
            "93\t14\t0.7368421052631579\n",
            "94\t3\t0.15789473684210525\n",
            "95\t6\t0.3157894736842105\n",
            "96\t0\t0.0\n",
            "97\t12\t0.631578947368421\n",
            "98\t7\t0.3684210526315789\n",
            "99\t17\t0.8947368421052632\n"
          ]
        }
      ]
    },
    {
      "cell_type": "markdown",
      "source": [
        "**Productos medios**"
      ],
      "metadata": {
        "id": "u0hhpEKIXz5N"
      }
    },
    {
      "cell_type": "code",
      "source": [
        "xo = 7363423178943\n",
        "x1 = 1324356789532\n",
        "#xo = 5015\n",
        "#x1 = 5734\n",
        "digitos = 7\n",
        "iteraciones = 100\n",
        "xn = xo * x1\n",
        "print(\"It. \\t Xn \\t\\t Ui \\t Rn\")\n",
        "vectorXn2 =[]\n",
        "\n",
        "for i in range(iteraciones):\n",
        "  xnn = xn \n",
        "  txnn = str(xnn).zfill(8)\n",
        "  tam = len(txnn)\n",
        "  ui = int(txnn[int(tam/2-digitos/2):int(tam/2+digitos/2)])\n",
        "  rn = ui / (int('9'*digitos)+1)\n",
        "  print(str(i) + \"\\t\" + str(xn) + \"\\t\"+ str(ui)+\"\\t\"+str(rn))\n",
        "  xn = x1 * ui\n",
        "  x1 = ui\n",
        "  vectorXn2.append(rn)"
      ],
      "metadata": {
        "colab": {
          "base_uri": "https://localhost:8080/"
        },
        "id": "Jecb_Et0KSWm",
        "outputId": "9d17cd11-c514-453d-fff8-9bc2a7570142"
      },
      "execution_count": null,
      "outputs": [
        {
          "output_type": "stream",
          "name": "stdout",
          "text": [
            "It. \t Xn \t\t Ui \t Rn\n",
            "0\t9751799481230465025224676\t1230465\t0.1230465\n",
            "1\t1629574677031492380\t4677031\t0.4677031\n",
            "2\t5754922949415\t4922949\t0.4922949\n",
            "3\t23024785084419\t2478508\t0.2478508\n",
            "4\t12201568480092\t156848\t0.0156848\n",
            "5\t388749022784\t8749022\t0.8749022\n",
            "6\t1372266602656\t2266602\t0.2266602\n",
            "7\t19830550763244\t3055076\t0.3055076\n",
            "8\t6924641371752\t4641371\t0.4641371\n",
            "9\t14179741149196\t7974114\t0.7974114\n",
            "10\t37010821470294\t1082147\t0.1082147\n",
            "11\t8629163542758\t9163542\t0.9163542\n",
            "12\t9916299484674\t6299484\t0.6299484\n",
            "13\t57725586212328\t2558621\t0.2558621\n",
            "14\t16117992051564\t1799205\t0.1799205\n",
            "15\t4603483696305\t3483696\t0.3483696\n",
            "16\t6267883261680\t7883261\t0.7883261\n",
            "17\t27462884812656\t6288481\t0.6288481\n",
            "18\t49573737016541\t7373701\t0.7373701\n",
            "19\t46369378638181\t6937863\t0.6937863\n",
            "20\t51157727340963\t5772734\t0.5772734\n",
            "21\t40050437627442\t5043762\t0.5043762\n",
            "22\t29116296385308\t1629638\t0.1629638\n",
            "23\t8219506218156\t9506218\t0.9506218\n",
            "24\t15491694089084\t9169408\t0.9169408\n",
            "25\t87166391378944\t6639137\t0.6639137\n",
            "26\t60876955920896\t7695592\t0.7695592\n",
            "27\t51092089584104\t9208958\t0.9208958\n",
            "28\t70868383513136\t6838351\t0.6838351\n",
            "29\t62974087148258\t7408714\t0.7408714\n",
            "30\t50663386790614\t6338679\t0.6338679\n",
            "31\t46961459848806\t6145984\t0.6145984\n",
            "32\t38957419715136\t5741971\t0.5741971\n",
            "33\t35290061894464\t9006189\t0.9006189\n",
            "34\t51713276058519\t1327605\t0.1327605\n",
            "35\t11956661547345\t5666154\t0.5666154\n",
            "36\t7522414381170\t2414381\t0.2414381\n",
            "37\t13680254560674\t8025456\t0.8025456\n",
            "38\t19376508482736\t7650848\t0.7650848\n",
            "39\t61401543986688\t154398\t0.0154398\n",
            "40\t1181275629504\t1275629\t0.1275629\n",
            "41\t196954566342\t6954566\t0.6954566\n",
            "42\t8871446072014\t1446072\t0.1446072\n",
            "43\t10056803164752\t5680316\t0.5680316\n",
            "44\t8214145918752\t4145918\t0.4145918\n",
            "45\t23550124350088\t5012435\t0.5012435\n",
            "46\t20781144490330\t8114449\t0.8114449\n",
            "47\t40673148173315\t7314817\t0.7314817\n",
            "48\t59355709490833\t5570949\t0.5570949\n",
            "49\t40750472451333\t5047245\t0.5047245\n",
            "50\t28117944485505\t1794448\t0.1794448\n",
            "51\t9057018695760\t7018695\t0.7018695\n",
            "52\t12594683205360\t9468320\t0.946832\n",
            "53\t66455250242400\t5525024\t0.5525024\n",
            "54\t52312695239680\t1269523\t0.1269523\n",
            "55\t7014145043552\t4145043\t0.4145043\n",
            "56\t5262227424489\t2227424\t0.2227424\n",
            "57\t9232768259232\t2768259\t0.2768259\n",
            "58\t6166086534816\t6086534\t0.6086534\n",
            "59\t16849102524306\t4910252\t0.4910252\n",
            "60\t29886415746568\t8641574\t0.8641574\n",
            "61\t42432306016648\t3230601\t0.3230601\n",
            "62\t27917477605974\t1747760\t0.174776\n",
            "63\t5646315203760\t6315203\t0.6315203\n",
            "64\t11037459195280\t3745919\t0.3745919\n",
            "65\t23656238906557\t5623890\t0.562389\n",
            "66\t21066636404910\t6663640\t0.666364\n",
            "67\t37475578359600\t7557835\t0.7557835\n",
            "68\t50362691619400\t6269161\t0.6269161\n",
            "69\t47381284426435\t8128442\t0.8128442\n",
            "70\t50958511577162\t5851157\t0.5851157\n",
            "71\t47560790307394\t6079030\t0.607903\n",
            "72\t35569358937710\t6935893\t0.6935893\n",
            "73\t42163501623790\t6350162\t0.6350162\n",
            "74\t44044044164666\t4404416\t0.4404416\n",
            "75\t27968755115392\t6875511\t0.6875511\n",
            "76\t30282610656576\t8261065\t0.8261065\n",
            "77\t56799043279215\t9904327\t0.9904327\n",
            "78\t81820289128255\t2028912\t0.2028912\n",
            "79\t20095007902224\t9500790\t0.950079\n",
            "80\t19276266840480\t7626684\t0.7626684\n",
            "81\t72459523080360\t5952308\t0.5952308\n",
            "82\t45396372186672\t9637218\t0.9637218\n",
            "83\t57363689799144\t6368979\t0.6368979\n",
            "84\t61379239060422\t7923906\t0.7923906\n",
            "85\t50467190911974\t6719091\t0.6719091\n",
            "86\t53241445489446\t4144548\t0.4144548\n",
            "87\t27847595165868\t4759516\t0.4759516\n",
            "88\t19726042518768\t2604251\t0.2604251\n",
            "89\t12394974302516\t9497430\t0.949743\n",
            "90\t24733691574930\t3369157\t0.3369157\n",
            "91\t31998332766510\t9833276\t0.9833276\n",
            "92\t33129850668332\t2985066\t0.2985066\n",
            "93\t29352977856216\t5297785\t0.5297785\n",
            "94\t15814237878810\t1423787\t0.1423787\n",
            "95\t7542917411795\t2917411\t0.2917411\n",
            "96\t4153771855457\t3771855\t0.3771855\n",
            "97\t11004051267405\t405126\t0.0405126\n",
            "98\t1528076528730\t8076528\t0.8076528\n",
            "99\t3272011482528\t2011482\t0.2011482\n"
          ]
        }
      ]
    },
    {
      "cell_type": "markdown",
      "source": [
        "**Tauswort**"
      ],
      "metadata": {
        "id": "2yQWUbfA8X0v"
      }
    },
    {
      "cell_type": "code",
      "source": [
        "from itertools import zip_longest\n",
        "\n",
        "r = 3\n",
        "q = 7\n",
        "baseb = 5\n",
        "vectorBase =[]\n",
        "\n",
        "if r < q :\n",
        "  def operacionXOR(a,b):\n",
        "    ab = 1\n",
        "    if a  == b:\n",
        "      ab = 0\n",
        "    return ab\n",
        "\n",
        "  bits = []\n",
        "  b = (2**q) - 1\n",
        "\n",
        "  for i in range(0,b):\n",
        "    bits.append(0)\n",
        "\n",
        "  for i in range(0,q):\n",
        "    bits[i] = 1\n",
        "    bits.append(1)\n",
        "\n",
        "  a = q+1\n",
        "  for i in range(a,len(bits)):\n",
        "    i1 = i - r\n",
        "    i2 = i - q\n",
        "    bits[i] = operacionXOR(bits[i1],bits[i2])\n",
        "\n",
        "\n",
        "  def binarioADecimal(binario):\n",
        "    a = 0\n",
        "    p = (baseb-1)\n",
        "    for i in range(0,len(binario)):\n",
        "      if binario[i] == 1:\n",
        "        a += 2**(p-i)\n",
        "    return a\n",
        "  test_list = bits\n",
        "\n",
        "  def elementos(n, iterable, padvalue='1'):\n",
        "      return zip_longest(*[iter(iterable)]*n, fillvalue=padvalue)\n",
        "\n",
        "  print(\"\\n\",\"It.\", \"\\t\", \"Base 2\", \"\\t\",\"Base 10\",\"\\t\",\"Ui\",\"\\n\")\n",
        "  d = 0\n",
        "  for output in elementos(baseb,test_list):\n",
        "      vectorBase.append(binarioADecimal(output)/(2**baseb))\n",
        "      lst_new = [str(a) for a in output]\n",
        "      print(d,\"\\t\" ,\" \".join(lst_new), \"\\t\", binarioADecimal(output), \"\\t\", \"\\t\", binarioADecimal(output)/(2**baseb))\n",
        "      d +=1\n",
        "else :\n",
        "  print(\"El valor de r=\" + str(r) + \" tiene que ser menor a q=\" + str(q))"
      ],
      "metadata": {
        "colab": {
          "base_uri": "https://localhost:8080/"
        },
        "id": "hyjjsTNn8bUr",
        "outputId": "b230cebe-fff1-45cb-9315-bf315a12fb4e"
      },
      "execution_count": null,
      "outputs": [
        {
          "output_type": "stream",
          "name": "stdout",
          "text": [
            "\n",
            " It. \t Base 2 \t Base 10 \t Ui \n",
            "\n",
            "0 \t 1 1 1 1 1 \t 31 \t \t 0.96875\n",
            "1 \t 1 1 0 0 0 \t 24 \t \t 0.75\n",
            "2 \t 1 1 1 0 1 \t 29 \t \t 0.90625\n",
            "3 \t 1 0 0 0 1 \t 17 \t \t 0.53125\n",
            "4 \t 0 1 0 0 1 \t 9 \t \t 0.28125\n",
            "5 \t 0 1 1 1 1 \t 15 \t \t 0.46875\n",
            "6 \t 1 0 1 0 1 \t 21 \t \t 0.65625\n",
            "7 \t 0 1 0 0 0 \t 8 \t \t 0.25\n",
            "8 \t 0 1 0 1 1 \t 11 \t \t 0.34375\n",
            "9 \t 0 1 1 1 1 \t 15 \t \t 0.46875\n",
            "10 \t 0 0 1 1 1 \t 7 \t \t 0.21875\n",
            "11 \t 0 0 1 0 1 \t 5 \t \t 0.15625\n",
            "12 \t 0 1 1 0 0 \t 12 \t \t 0.375\n",
            "13 \t 1 1 0 0 0 \t 24 \t \t 0.75\n",
            "14 \t 0 0 1 1 0 \t 6 \t \t 0.1875\n",
            "15 \t 1 1 0 1 0 \t 26 \t \t 0.8125\n",
            "16 \t 1 1 1 0 1 \t 29 \t \t 0.90625\n",
            "17 \t 0 0 0 1 1 \t 3 \t \t 0.09375\n",
            "18 \t 0 0 1 0 0 \t 4 \t \t 0.125\n",
            "19 \t 0 1 0 0 0 \t 8 \t \t 0.25\n",
            "20 \t 0 0 0 1 0 \t 2 \t \t 0.0625\n",
            "21 \t 0 1 0 0 1 \t 9 \t \t 0.28125\n",
            "22 \t 1 0 1 0 0 \t 20 \t \t 0.625\n",
            "23 \t 1 1 1 1 0 \t 30 \t \t 0.9375\n",
            "24 \t 1 1 1 0 0 \t 28 \t \t 0.875\n",
            "25 \t 0 0 1 1 1 \t 7 \t \t 0.21875\n",
            "26 \t 1 1 1 1 1 \t 30 \t \t 0.9375\n"
          ]
        }
      ]
    },
    {
      "cell_type": "code",
      "source": [
        "from statsmodels.graphics import tsaplots\n",
        "import matplotlib.pyplot as plt\n",
        "import numpy as np\n",
        "import statsmodels.api as sm\n",
        "\n",
        "print(\"\\nAutocorrelacion cuadrados medios \\n\\n\" + str(sm.tsa.acf(vectorXn)))\n",
        "print(\"\")\n",
        "\n",
        "xC = np.array(vectorXn)\n",
        "#plot función de autocorrelación\n",
        "fig = tsaplots.plot_acf (xC, lags = 41)\n",
        "plt.show ()"
      ],
      "metadata": {
        "colab": {
          "base_uri": "https://localhost:8080/",
          "height": 527
        },
        "id": "U-HSkyoM_6Ga",
        "outputId": "6867b691-2575-4329-8186-1df52b452709"
      },
      "execution_count": null,
      "outputs": [
        {
          "output_type": "stream",
          "name": "stdout",
          "text": [
            "\n",
            "Autocorrelacion cuadrados medios \n",
            "\n",
            "[ 1.          0.00990397  0.01906821 -0.00479944 -0.04554391  0.00234867\n",
            " -0.07677583  0.04625427  0.11388088 -0.04057416  0.02895785  0.06122767\n",
            " -0.05580421  0.1501343   0.10563753 -0.04873076 -0.14400592 -0.01354289\n",
            " -0.07225195  0.04877254 -0.04180903  0.04588856  0.24383867 -0.07762704\n",
            " -0.03591167 -0.02542801 -0.11856326  0.13632096 -0.1652781  -0.05450258\n",
            "  0.03826711 -0.03456576  0.07878547 -0.03730439  0.00338188  0.09310451\n",
            " -0.04277876 -0.17050109 -0.08942091 -0.14092108 -0.05680036]\n",
            "\n"
          ]
        },
        {
          "output_type": "stream",
          "name": "stderr",
          "text": [
            "/usr/local/lib/python3.7/dist-packages/statsmodels/tsa/stattools.py:541: FutureWarning: fft=True will become the default in a future version of statsmodels. To suppress this warning, explicitly set fft=False.\n",
            "  warnings.warn(msg, FutureWarning)\n"
          ]
        },
        {
          "output_type": "display_data",
          "data": {
            "text/plain": [
              "<Figure size 432x288 with 1 Axes>"
            ],
            "image/png": "[encoded data removed]"
          },
          "metadata": {
            "needs_background": "light"
          }
        }
      ]
    },
    {
      "cell_type": "code",
      "source": [
        "from statsmodels.graphics import tsaplots\n",
        "import matplotlib.pyplot as plt\n",
        "import numpy as np\n",
        "import statsmodels.api as sm\n",
        "\n",
        "print(\"\\nAutocorrelacion congruencia lineal \\n\\n\" + str(sm.tsa.acf(vectorXn)))\n",
        "print(\"\")\n",
        "\n",
        "xR = np.array(vectorXn1)\n",
        "#plot función de autocorrelación\n",
        "fig = tsaplots.plot_acf (xR, lags = 41)\n",
        "plt.show ()"
      ],
      "metadata": {
        "colab": {
          "base_uri": "https://localhost:8080/",
          "height": 527
        },
        "id": "M1Sh8A_sBXER",
        "outputId": "c80b6a04-e2ad-4722-a919-b39ba53db87f"
      },
      "execution_count": null,
      "outputs": [
        {
          "output_type": "stream",
          "name": "stdout",
          "text": [
            "\n",
            "Autocorrelacion congruencia lineal \n",
            "\n",
            "[ 1.          0.00990397  0.01906821 -0.00479944 -0.04554391  0.00234867\n",
            " -0.07677583  0.04625427  0.11388088 -0.04057416  0.02895785  0.06122767\n",
            " -0.05580421  0.1501343   0.10563753 -0.04873076 -0.14400592 -0.01354289\n",
            " -0.07225195  0.04877254 -0.04180903  0.04588856  0.24383867 -0.07762704\n",
            " -0.03591167 -0.02542801 -0.11856326  0.13632096 -0.1652781  -0.05450258\n",
            "  0.03826711 -0.03456576  0.07878547 -0.03730439  0.00338188  0.09310451\n",
            " -0.04277876 -0.17050109 -0.08942091 -0.14092108 -0.05680036]\n",
            "\n"
          ]
        },
        {
          "output_type": "stream",
          "name": "stderr",
          "text": [
            "/usr/local/lib/python3.7/dist-packages/statsmodels/tsa/stattools.py:541: FutureWarning: fft=True will become the default in a future version of statsmodels. To suppress this warning, explicitly set fft=False.\n",
            "  warnings.warn(msg, FutureWarning)\n"
          ]
        },
        {
          "output_type": "display_data",
          "data": {
            "text/plain": [
              "<Figure size 432x288 with 1 Axes>"
            ],
            "image/png": "[encoded data removed]"
          },
          "metadata": {
            "needs_background": "light"
          }
        }
      ]
    },
    {
      "cell_type": "code",
      "source": [
        "from statsmodels.graphics import tsaplots\n",
        "import matplotlib.pyplot as plt\n",
        "import numpy as np\n",
        "import statsmodels.api as sm\n",
        "\n",
        "print(\"\\nAutocorrelacion Tauswort \\n\\n\" + str(sm.tsa.acf(vectorXn)))\n",
        "print(\"\")\n",
        "\n",
        "xB = np.array(vectorBase)\n",
        "#plot función de autocorrelación\n",
        "fig = tsaplots.plot_acf (xB, lags = 26)\n",
        "plt.show ()"
      ],
      "metadata": {
        "colab": {
          "base_uri": "https://localhost:8080/",
          "height": 527
        },
        "id": "cWKAQM3PB7ce",
        "outputId": "6b8d5e49-1336-4e5f-ba4d-385a941a54fe"
      },
      "execution_count": null,
      "outputs": [
        {
          "output_type": "stream",
          "name": "stderr",
          "text": [
            "/usr/local/lib/python3.7/dist-packages/statsmodels/tsa/stattools.py:541: FutureWarning: fft=True will become the default in a future version of statsmodels. To suppress this warning, explicitly set fft=False.\n",
            "  warnings.warn(msg, FutureWarning)\n"
          ]
        },
        {
          "output_type": "stream",
          "name": "stdout",
          "text": [
            "\n",
            "Autocorrelacion Tauswort \n",
            "\n",
            "[ 1.          0.00990397  0.01906821 -0.00479944 -0.04554391  0.00234867\n",
            " -0.07677583  0.04625427  0.11388088 -0.04057416  0.02895785  0.06122767\n",
            " -0.05580421  0.1501343   0.10563753 -0.04873076 -0.14400592 -0.01354289\n",
            " -0.07225195  0.04877254 -0.04180903  0.04588856  0.24383867 -0.07762704\n",
            " -0.03591167 -0.02542801 -0.11856326  0.13632096 -0.1652781  -0.05450258\n",
            "  0.03826711 -0.03456576  0.07878547 -0.03730439  0.00338188  0.09310451\n",
            " -0.04277876 -0.17050109 -0.08942091 -0.14092108 -0.05680036]\n",
            "\n"
          ]
        },
        {
          "output_type": "display_data",
          "data": {
            "text/plain": [
              "<Figure size 432x288 with 1 Axes>"
            ],
            "image/png": "[encoded data removed]"
          },
          "metadata": {
            "needs_background": "light"
          }
        }
      ]
    },
    {
      "cell_type": "code",
      "source": [
        "from statsmodels.graphics import tsaplots\n",
        "import matplotlib.pyplot as plt\n",
        "import numpy as np\n",
        "import statsmodels.api as sm\n",
        "\n",
        "print(\"\\nAutocorrelacion productos medios \\n\\n\" + str(sm.tsa.acf(vectorXn)))\n",
        "print(\"\")\n",
        "\n",
        "xP = np.array(vectorXn2)\n",
        "#plot función de autocorrelación\n",
        "fig = tsaplots.plot_acf (xP, lags = 26)\n",
        "plt.show ()"
      ],
      "metadata": {
        "colab": {
          "base_uri": "https://localhost:8080/",
          "height": 527
        },
        "id": "TctfW41ZbBqR",
        "outputId": "0c00486d-a0a9-4ddf-a98a-e7a5841b3bd2"
      },
      "execution_count": null,
      "outputs": [
        {
          "output_type": "stream",
          "name": "stdout",
          "text": [
            "\n",
            "Autocorrelacion productos medios \n",
            "\n",
            "[ 1.          0.00990397  0.01906821 -0.00479944 -0.04554391  0.00234867\n",
            " -0.07677583  0.04625427  0.11388088 -0.04057416  0.02895785  0.06122767\n",
            " -0.05580421  0.1501343   0.10563753 -0.04873076 -0.14400592 -0.01354289\n",
            " -0.07225195  0.04877254 -0.04180903  0.04588856  0.24383867 -0.07762704\n",
            " -0.03591167 -0.02542801 -0.11856326  0.13632096 -0.1652781  -0.05450258\n",
            "  0.03826711 -0.03456576  0.07878547 -0.03730439  0.00338188  0.09310451\n",
            " -0.04277876 -0.17050109 -0.08942091 -0.14092108 -0.05680036]\n",
            "\n"
          ]
        },
        {
          "output_type": "stream",
          "name": "stderr",
          "text": [
            "/usr/local/lib/python3.7/dist-packages/statsmodels/tsa/stattools.py:541: FutureWarning: fft=True will become the default in a future version of statsmodels. To suppress this warning, explicitly set fft=False.\n",
            "  warnings.warn(msg, FutureWarning)\n"
          ]
        },
        {
          "output_type": "display_data",
          "data": {
            "text/plain": [
              "<Figure size 432x288 with 1 Axes>"
            ],
            "image/png": "[encoded data removed]"
          },
          "metadata": {
            "needs_background": "light"
          }
        }
      ]
    }
  ]
}