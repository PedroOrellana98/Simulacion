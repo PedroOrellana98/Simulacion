{
  "nbformat": 4,
  "nbformat_minor": 0,
  "metadata": {
    "colab": {
      "name": "Prueba3.ipynb",
      "provenance": [],
      "collapsed_sections": []
    },
    "kernelspec": {
      "name": "python3",
      "display_name": "Python 3"
    },
    "language_info": {
      "name": "python"
    }
  },
  "cells": [
    {
      "cell_type": "markdown",
      "source": [
        "<img src=\"https://pure.ups.edu.ec/skin/footerIcon/\"/>\n",
        "\n",
        "**Nombre:**  Pedro Jose Orellana\n",
        "\n",
        "**Prueba:** Unidad 3\n",
        "\n",
        "**Asignatura:** Simulacion  \n"
      ],
      "metadata": {
        "id": "d52p7jsh3Hm7"
      }
    },
    {
      "cell_type": "markdown",
      "source": [
        "**Ejemplo**\n",
        "\n",
        "Las rentas salariales anuales en cierto sector economico (X en miles de Dolares) es una magnitud distribuida segun un modelo de Pareto con un salario minimo $\\alpha$ = 9 y $\\beta$ = 2.4"
      ],
      "metadata": {
        "id": "cE7y1i7r7pzq"
      }
    },
    {
      "cell_type": "code",
      "source": [
        "import numpy as np\n",
        "import matplotlib.pyplot as plt\n",
        "\n",
        "a, b = 9, 2.4  #Declaracion de las varibales Alpha y Beta\n",
        "numeros = 100\n",
        "print(\"Distribucion de Pareto\\n\")\n",
        "numR = (np.random.pareto(a, numeros) + 1) * b #Generacion de numeros randomicos\n",
        "print(\"Primeros 100 numeros generados: \\n\\n\" + str(numR) + \"\\n\")"
      ],
      "metadata": {
        "colab": {
          "base_uri": "https://localhost:8080/"
        },
        "id": "KJ2S391L_gUp",
        "outputId": "0b9c9429-b0f8-47cd-8641-d53d4ede25d3"
      },
      "execution_count": 4,
      "outputs": [
        {
          "output_type": "stream",
          "name": "stdout",
          "text": [
            "Distribucion de Pareto\n",
            "\n",
            "Primeros 100 numeros generados: \n",
            "\n",
            "[4.28801558 2.52361449 2.49131085 2.59085194 2.53562588 2.91575956\n",
            " 2.79566516 3.0033581  2.52682392 2.64178035 3.12825643 2.55419287\n",
            " 2.57454132 2.4146712  2.52318672 2.4220605  4.36436585 2.4079687\n",
            " 4.28373558 3.01541138 2.52673171 3.50776702 2.92060539 2.51578185\n",
            " 2.40199744 2.64744278 2.54530956 2.61758283 2.45600773 3.12981318\n",
            " 5.37174187 2.40277796 2.5881646  2.51997917 2.59405865 2.54884024\n",
            " 2.48022395 3.2928858  2.95265828 2.62401517 2.61859632 2.44103883\n",
            " 2.54509374 3.15148113 2.43956502 3.41362528 2.67940187 2.42054486\n",
            " 2.46603495 2.55557907 2.52676642 2.42093724 2.43638266 2.57482287\n",
            " 2.4599613  2.6392646  2.88500577 2.65159984 2.42281149 2.40021629\n",
            " 2.73586543 2.40544195 2.45386611 2.56471481 2.50550368 2.45121093\n",
            " 2.64651079 2.7422568  3.88295719 2.69723636 2.68633915 2.58045469\n",
            " 2.6553495  3.60453508 2.59171474 2.42444106 2.42510015 2.48244741\n",
            " 2.62645254 2.59352521 2.98463959 2.61734068 2.55420697 2.47063295\n",
            " 2.46052002 2.483178   2.51497538 3.58123723 2.93904568 2.43727758\n",
            " 2.714088   2.50200379 2.40479226 3.25439491 2.91885755 2.9179629\n",
            " 2.76870299 2.50317045 2.55617915 2.79277147]\n",
            "\n"
          ]
        }
      ]
    },
    {
      "cell_type": "code",
      "source": [
        "count, x, _ = plt.hist(numR, numeros, density=True) #Fit de los 100 numeros generados\n",
        "densidad = a*b**a / x**(a+1) #Generacion de la formula: ((a * b) ^ a) / ((x) ^ a + 1)\n",
        "plt.plot(x, max(count)*densidad/max(densidad), linewidth=2, color='r') #Generacion del grafico de los 100 numeros\n",
        "plt.title('Funcion de la densidad', fontsize=15)\n",
        "plt.show()"
      ],
      "metadata": {
        "colab": {
          "base_uri": "https://localhost:8080/",
          "height": 283
        },
        "id": "YIuc5nBWbHm-",
        "outputId": "e2e0c768-b4da-4a80-9997-7fee6475ac54"
      },
      "execution_count": 2,
      "outputs": [
        {
          "output_type": "display_data",
          "data": {
            "text/plain": [
              "<Figure size 432x288 with 1 Axes>"
            ],
            "image/png": "[encoded data removed]"
          },
          "metadata": {
            "needs_background": "light"
          }
        }
      ]
    },
    {
      "cell_type": "code",
      "source": [
        "count, x, _ = plt.hist(numR, numeros, density=True) #Fit de los 100 numeros generados\n",
        "acumulada = 1 - (b/x)**a #Generacion de la formula: 1 - (b / x) ^ a\n",
        "plt.plot(x, max(count)*acumulada/max(acumulada), linewidth=2, color='r') #Generacion del grafico de los 100 numeros\n",
        "plt.title('Funcion acumulada', fontsize=15)\n",
        "plt.show()"
      ],
      "metadata": {
        "colab": {
          "base_uri": "https://localhost:8080/",
          "height": 283
        },
        "id": "TxphJ2c3b6Dm",
        "outputId": "ec343afc-cc12-477d-ff11-f42faaef0948"
      },
      "execution_count": 3,
      "outputs": [
        {
          "output_type": "display_data",
          "data": {
            "text/plain": [
              "<Figure size 432x288 with 1 Axes>"
            ],
            "image/png": "[encoded data removed]"
          },
          "metadata": {
            "needs_background": "light"
          }
        }
      ]
    },
    {
      "cell_type": "markdown",
      "source": [
        "**Bibliografia**\n",
        "\n",
        "https://numpy.org/doc/stable/reference/random/generated/numpy.random.pareto.html\n",
        "\n",
        "https://es.wikipedia.org/wiki/Distribuci%C3%B3n_de_Pareto#:~:text=La%20funci%C3%B3n%20de%20densidad%20de%20probabilidad%20(PDF)%20al%20principio%20de,medida%20que%20aumenta%20la%20riqueza."
      ],
      "metadata": {
        "id": "uo0mVl4ndjkX"
      }
    }
  ]
}